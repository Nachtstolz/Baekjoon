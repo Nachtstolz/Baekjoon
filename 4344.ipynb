{
 "cells": [
  {
   "cell_type": "code",
   "execution_count": 16,
   "metadata": {},
   "outputs": [
    {
     "name": "stdout",
     "output_type": "stream",
     "text": [
      "1\n",
      "7 100 95 90 80 70 60 50\n",
      "57.143%\n"
     ]
    }
   ],
   "source": [
    "# 테스트 개수\n",
    "test = int(input())\n",
    "\n",
    "for i in range(test) :\n",
    "    arr = list(map(int, input().split())) # 공백 단위로 분리해서 배열화\n",
    "    num = arr[0] # 학생 수\n",
    "    avg = (sum(arr) - arr[0]) / num # 점수 평균\n",
    "    #print(avg)\n",
    "    cnt = 0\n",
    "    for j in range(1, num+1) :\n",
    "        #print(j)\n",
    "        if(arr[j] > avg) : # 각 학생의 점수가 평균보다 크면\n",
    "            cnt += 1 # cnt++\n",
    "            #print(arr[j])\n",
    "    res = round(cnt/num*100.0, 3) # 평균을 넘은 학생의 비율\n",
    "    print('%.3f'%res+'%')"
   ]
  },
  {
   "cell_type": "code",
   "execution_count": null,
   "metadata": {},
   "outputs": [],
   "source": []
  }
 ],
 "metadata": {
  "kernelspec": {
   "display_name": "Python 3",
   "language": "python",
   "name": "python3"
  },
  "language_info": {
   "codemirror_mode": {
    "name": "ipython",
    "version": 3
   },
   "file_extension": ".py",
   "mimetype": "text/x-python",
   "name": "python",
   "nbconvert_exporter": "python",
   "pygments_lexer": "ipython3",
   "version": "3.7.3"
  }
 },
 "nbformat": 4,
 "nbformat_minor": 2
}
