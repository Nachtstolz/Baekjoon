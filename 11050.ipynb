{
 "cells": [
  {
   "cell_type": "markdown",
   "metadata": {},
   "source": [
    "## 이항 계수\n",
    "### n개 중에 k개를 고를 때 n!/((n-k)!k!)를 구하면 됨"
   ]
  },
  {
   "cell_type": "code",
   "execution_count": 9,
   "metadata": {},
   "outputs": [
    {
     "name": "stdout",
     "output_type": "stream",
     "text": [
      "5 2\n",
      "10\n"
     ]
    }
   ],
   "source": [
    "li = list(map(int, input().split())) # 한 줄에 n과 k 입력받기\n",
    "#k = int(input())\n",
    "n = li[0]\n",
    "k = li[1]\n",
    "\n",
    "# 곱하기를 위해 1로 설정\n",
    "up = 1\n",
    "dn1 = 1\n",
    "dn2 = 1\n",
    "\n",
    "for i in range(1,n+1) : # n!\n",
    "    up *= i\n",
    "for i in range(1,n-k+1) : # (n-k)!\n",
    "    dn1 *= i\n",
    "for i in range(1, k+1) : # k!\n",
    "    dn2 *= i\n",
    "    \n",
    "res = int(up/(dn1*dn2)) # 이항 계수\n",
    "print(res)"
   ]
  },
  {
   "cell_type": "code",
   "execution_count": null,
   "metadata": {},
   "outputs": [],
   "source": []
  }
 ],
 "metadata": {
  "kernelspec": {
   "display_name": "Python 3",
   "language": "python",
   "name": "python3"
  },
  "language_info": {
   "codemirror_mode": {
    "name": "ipython",
    "version": 3
   },
   "file_extension": ".py",
   "mimetype": "text/x-python",
   "name": "python",
   "nbconvert_exporter": "python",
   "pygments_lexer": "ipython3",
   "version": "3.7.3"
  }
 },
 "nbformat": 4,
 "nbformat_minor": 2
}
