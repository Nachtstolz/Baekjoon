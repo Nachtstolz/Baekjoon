{
 "cells": [
  {
   "cell_type": "code",
   "execution_count": 7,
   "metadata": {},
   "outputs": [
    {
     "name": "stdout",
     "output_type": "stream",
     "text": [
      "1\n",
      "0\n"
     ]
    }
   ],
   "source": [
    "n1 = 0 # 첫번째 수\n",
    "n2 = 1 # 두번째 수\n",
    "\n",
    "cnt = 2 # 미리 정해진 0과 1\n",
    "res = 0 # 피보나치 수를 저장할 변수\n",
    "num = int(input()) # 몇 번째 피보나치 수인지 입력\n",
    "while(cnt <= num) :\n",
    "    res = n1 + n2 # 해당 번째의 피보나치 수\n",
    "    # 다음에 피보나치 수를 구하는 데 쓸 n1과 n2 변경\n",
    "    n1 = n2\n",
    "    n2 = res\n",
    "    cnt += 1\n",
    "    \n",
    "if(num == 1) : # num이 1일 경우. 예외 처리\n",
    "    res = n2\n",
    "\n",
    "print(res)"
   ]
  },
  {
   "cell_type": "code",
   "execution_count": null,
   "metadata": {},
   "outputs": [],
   "source": []
  }
 ],
 "metadata": {
  "kernelspec": {
   "display_name": "Python 3",
   "language": "python",
   "name": "python3"
  },
  "language_info": {
   "codemirror_mode": {
    "name": "ipython",
    "version": 3
   },
   "file_extension": ".py",
   "mimetype": "text/x-python",
   "name": "python",
   "nbconvert_exporter": "python",
   "pygments_lexer": "ipython3",
   "version": "3.7.3"
  }
 },
 "nbformat": 4,
 "nbformat_minor": 2
}
